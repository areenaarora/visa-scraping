{
 "cells": [
  {
   "cell_type": "code",
   "execution_count": 1,
   "id": "607d65e3",
   "metadata": {},
   "outputs": [],
   "source": [
    "# Do all the necessary imports\n",
    "from selenium import webdriver\n",
    "from selenium.webdriver.common.by import By\n",
    "from selenium.webdriver.support.ui import WebDriverWait\n",
    "from selenium.webdriver.support import expected_conditions as EC\n",
    "from selenium.webdriver.support.ui import Select\n",
    "from webdriver_manager.chrome import ChromeDriverManager\n",
    "import time"
   ]
  },
  {
   "cell_type": "code",
   "execution_count": 2,
   "id": "878dd559",
   "metadata": {},
   "outputs": [
    {
     "name": "stderr",
     "output_type": "stream",
     "text": [
      "\n",
      "\n",
      "====== WebDriver manager ======\n",
      "Current google-chrome version is 96.0.4664\n",
      "Get LATEST chromedriver version for 96.0.4664 google-chrome\n",
      "Driver [/Users/areena.arora/.wdm/drivers/chromedriver/mac64/96.0.4664.45/chromedriver] found in cache\n",
      "/var/folders/81/2s24wkdd02j9528vnjsx7m080000gn/T/ipykernel_4325/1677810314.py:2: DeprecationWarning: executable_path has been deprecated, please pass in a Service object\n",
      "  driver = webdriver.Chrome(ChromeDriverManager().install())\n"
     ]
    }
   ],
   "source": [
    "# Launch a new Chrome window\n",
    "driver = webdriver.Chrome(ChromeDriverManager().install())"
   ]
  },
  {
   "cell_type": "code",
   "execution_count": 3,
   "id": "173fdbdd",
   "metadata": {},
   "outputs": [],
   "source": [
    "# Open the link\n",
    "driver.get(\"https://www.myvisajobs.com/Reports/\")"
   ]
  },
  {
   "cell_type": "code",
   "execution_count": 5,
   "id": "17ae95cf",
   "metadata": {},
   "outputs": [],
   "source": [
    "# Open 2021 report\n",
    "driver.find_element(By.ID, \"ui-accordion-accordion-header-0\").click()"
   ]
  },
  {
   "cell_type": "code",
   "execution_count": 6,
   "id": "7f1fdff5",
   "metadata": {},
   "outputs": [],
   "source": [
    "# driver.find_element(By.TAG_NAME, \"li\").click()\n",
    "# time.sleep(10)"
   ]
  },
  {
   "cell_type": "code",
   "execution_count": 7,
   "id": "61e00520",
   "metadata": {},
   "outputs": [
    {
     "name": "stderr",
     "output_type": "stream",
     "text": [
      "/var/folders/81/2s24wkdd02j9528vnjsx7m080000gn/T/ipykernel_4325/3307742735.py:1: DeprecationWarning: find_element_by_* commands are deprecated. Please use find_element() instead\n",
      "  driver.find_element_by_partial_link_text(\"Top 100 H1B Visa Sponsor\").click()\n"
     ]
    }
   ],
   "source": [
    "driver.find_element_by_partial_link_text(\"Top 100 H1B Visa Sponsor\").click()"
   ]
  },
  {
   "cell_type": "code",
   "execution_count": 8,
   "id": "689906a8",
   "metadata": {},
   "outputs": [
    {
     "name": "stderr",
     "output_type": "stream",
     "text": [
      "/var/folders/81/2s24wkdd02j9528vnjsx7m080000gn/T/ipykernel_4325/654237996.py:1: DeprecationWarning: find_element_by_* commands are deprecated. Please use find_element() instead\n",
      "  driver.find_element_by_partial_link_text(\"State\").click()\n"
     ]
    }
   ],
   "source": [
    "driver.find_element_by_partial_link_text(\"State\").click()"
   ]
  },
  {
   "cell_type": "code",
   "execution_count": null,
   "id": "7e719284",
   "metadata": {},
   "outputs": [],
   "source": []
  }
 ],
 "metadata": {
  "kernelspec": {
   "display_name": "Python 3 (ipykernel)",
   "language": "python",
   "name": "python3"
  },
  "language_info": {
   "codemirror_mode": {
    "name": "ipython",
    "version": 3
   },
   "file_extension": ".py",
   "mimetype": "text/x-python",
   "name": "python",
   "nbconvert_exporter": "python",
   "pygments_lexer": "ipython3",
   "version": "3.10.0"
  }
 },
 "nbformat": 4,
 "nbformat_minor": 5
}
