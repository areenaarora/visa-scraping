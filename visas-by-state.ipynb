{
 "cells": [
  {
   "cell_type": "code",
   "execution_count": 1,
   "id": "643efb97",
   "metadata": {},
   "outputs": [
    {
     "name": "stderr",
     "output_type": "stream",
     "text": [
      "/Users/areena.arora/.pyenv/versions/3.10.0/lib/python3.10/site-packages/pandas/compat/__init__.py:124: UserWarning: Could not import the lzma module. Your installed Python is incomplete. Attempting to use lzma compression will result in a RuntimeError.\n",
      "  warnings.warn(msg)\n"
     ]
    }
   ],
   "source": [
    "# Do all the necessary imports\n",
    "from selenium import webdriver\n",
    "from selenium.webdriver.common.by import By\n",
    "from selenium.webdriver.support.ui import WebDriverWait\n",
    "from selenium.webdriver.support import expected_conditions as EC\n",
    "from selenium.webdriver.support.ui import Select\n",
    "from webdriver_manager.chrome import ChromeDriverManager\n",
    "import time\n",
    "import pandas as pd"
   ]
  },
  {
   "cell_type": "code",
   "execution_count": 2,
   "id": "22d7ea42",
   "metadata": {},
   "outputs": [
    {
     "name": "stderr",
     "output_type": "stream",
     "text": [
      "\n",
      "\n",
      "====== WebDriver manager ======\n",
      "Current google-chrome version is 96.0.4664\n",
      "Get LATEST chromedriver version for 96.0.4664 google-chrome\n",
      "Trying to download new driver from https://chromedriver.storage.googleapis.com/96.0.4664.45/chromedriver_mac64.zip\n",
      "Driver has been saved in cache [/Users/areena.arora/.wdm/drivers/chromedriver/mac64/96.0.4664.45]\n",
      "/var/folders/81/2s24wkdd02j9528vnjsx7m080000gn/T/ipykernel_17875/1677810314.py:2: DeprecationWarning: executable_path has been deprecated, please pass in a Service object\n",
      "  driver = webdriver.Chrome(ChromeDriverManager().install())\n"
     ]
    }
   ],
   "source": [
    "# Launch a new Chrome window\n",
    "driver = webdriver.Chrome(ChromeDriverManager().install())"
   ]
  },
  {
   "cell_type": "code",
   "execution_count": 3,
   "id": "96c397c7",
   "metadata": {},
   "outputs": [],
   "source": [
    "# Open the link\n",
    "driver.get(\"https://www.myvisajobs.com/Reports/2021-H1B-Visa-Category.aspx?T=WS\")"
   ]
  },
  {
   "cell_type": "code",
   "execution_count": 4,
   "id": "4f7073f2",
   "metadata": {},
   "outputs": [
    {
     "data": {
      "text/html": [
       "<div>\n",
       "<style scoped>\n",
       "    .dataframe tbody tr th:only-of-type {\n",
       "        vertical-align: middle;\n",
       "    }\n",
       "\n",
       "    .dataframe tbody tr th {\n",
       "        vertical-align: top;\n",
       "    }\n",
       "\n",
       "    .dataframe thead th {\n",
       "        text-align: right;\n",
       "    }\n",
       "</style>\n",
       "<table border=\"1\" class=\"dataframe\">\n",
       "  <thead>\n",
       "    <tr style=\"text-align: right;\">\n",
       "      <th></th>\n",
       "      <th>rank</th>\n",
       "      <th>state</th>\n",
       "      <th>number_of_applications</th>\n",
       "      <th>average salary</th>\n",
       "    </tr>\n",
       "  </thead>\n",
       "  <tbody>\n",
       "    <tr>\n",
       "      <th>1</th>\n",
       "      <td>1</td>\n",
       "      <td>California</td>\n",
       "      <td>115871</td>\n",
       "      <td>$133,057</td>\n",
       "    </tr>\n",
       "    <tr>\n",
       "      <th>2</th>\n",
       "      <td>2</td>\n",
       "      <td>Texas</td>\n",
       "      <td>59022</td>\n",
       "      <td>$103,411</td>\n",
       "    </tr>\n",
       "    <tr>\n",
       "      <th>3</th>\n",
       "      <td>3</td>\n",
       "      <td>New York</td>\n",
       "      <td>46800</td>\n",
       "      <td>$119,431</td>\n",
       "    </tr>\n",
       "  </tbody>\n",
       "</table>\n",
       "</div>"
      ],
      "text/plain": [
       "  rank       state number_of_applications average salary\n",
       "1    1  California                 115871       $133,057\n",
       "2    2       Texas                  59022       $103,411\n",
       "3    3    New York                  46800       $119,431"
      ]
     },
     "execution_count": 4,
     "metadata": {},
     "output_type": "execute_result"
    }
   ],
   "source": [
    "table = driver.find_element(By.TAG_NAME, \"table\")\n",
    "table.get_attribute('outerHTML')\n",
    "df = pd.read_html(table.get_attribute('outerHTML'))[3]\n",
    "df.columns = ['rank', 'state', 'number_of_applications' , 'average salary']\n",
    "df.drop(index=df.index[0], \n",
    "        axis=0, \n",
    "        inplace=True)\n",
    "df.head(3)"
   ]
  },
  {
   "cell_type": "code",
   "execution_count": null,
   "id": "7b1a3582",
   "metadata": {},
   "outputs": [],
   "source": [
    "# driver.current_url"
   ]
  },
  {
   "cell_type": "code",
   "execution_count": null,
   "id": "88b42075",
   "metadata": {},
   "outputs": [],
   "source": [
    "# df = pd.read_html(table.get_attribute('outerHTML'))[3]\n",
    "# df"
   ]
  },
  {
   "cell_type": "code",
   "execution_count": null,
   "id": "a3023e81",
   "metadata": {},
   "outputs": [],
   "source": [
    "# df.columns = ['rank', 'state', 'number_of_applications' , 'average salary']"
   ]
  },
  {
   "cell_type": "code",
   "execution_count": null,
   "id": "98c568d9",
   "metadata": {},
   "outputs": [],
   "source": [
    "# df.drop(index=df.index[0], \n",
    "#         axis=0, \n",
    "#         inplace=True)"
   ]
  },
  {
   "cell_type": "code",
   "execution_count": 6,
   "id": "9ec67203",
   "metadata": {},
   "outputs": [],
   "source": [
    "href_list = []\n",
    "years = [\n",
    "    \"2011\",\n",
    "    \"2012\",\n",
    "    \"2013\",\"2014\",\"2015\", \"2016\", \"2017\", \"2018\", \"2019\", \"2020\"]\n",
    "for year in years:\n",
    "    href = \"https://www.myvisajobs.com/Reports/\" + year + \"-H1B-Visa-Category.aspx?T=WS#LCA\"\n",
    "#   print(href)\n",
    "    href_list.append(href)"
   ]
  },
  {
   "cell_type": "code",
   "execution_count": 7,
   "id": "d2bb87da",
   "metadata": {},
   "outputs": [
    {
     "data": {
      "text/plain": [
       "['https://www.myvisajobs.com/Reports/2011-H1B-Visa-Category.aspx?T=WS#LCA',\n",
       " 'https://www.myvisajobs.com/Reports/2012-H1B-Visa-Category.aspx?T=WS#LCA',\n",
       " 'https://www.myvisajobs.com/Reports/2013-H1B-Visa-Category.aspx?T=WS#LCA',\n",
       " 'https://www.myvisajobs.com/Reports/2014-H1B-Visa-Category.aspx?T=WS#LCA',\n",
       " 'https://www.myvisajobs.com/Reports/2015-H1B-Visa-Category.aspx?T=WS#LCA',\n",
       " 'https://www.myvisajobs.com/Reports/2016-H1B-Visa-Category.aspx?T=WS#LCA',\n",
       " 'https://www.myvisajobs.com/Reports/2017-H1B-Visa-Category.aspx?T=WS#LCA',\n",
       " 'https://www.myvisajobs.com/Reports/2018-H1B-Visa-Category.aspx?T=WS#LCA',\n",
       " 'https://www.myvisajobs.com/Reports/2019-H1B-Visa-Category.aspx?T=WS#LCA',\n",
       " 'https://www.myvisajobs.com/Reports/2020-H1B-Visa-Category.aspx?T=WS#LCA']"
      ]
     },
     "execution_count": 7,
     "metadata": {},
     "output_type": "execute_result"
    }
   ],
   "source": [
    "href_list"
   ]
  },
  {
   "cell_type": "code",
   "execution_count": null,
   "id": "af6c120c",
   "metadata": {},
   "outputs": [],
   "source": [
    "for each_link in href_list:\n",
    "    driver.get(\"https://www.myvisajobs.com/Reports/2021-H1B-Visa-Category.aspx?T=WS\")\n",
    "table = driver.find_element(By.TAG_NAME, \"table\")\n",
    "table.get_attribute('outerHTML')\n",
    "df = pd.read_html(table.get_attribute('outerHTML'))[3]\n",
    "df.columns = ['rank', 'state', 'number_of_applications' , 'average salary']\n",
    "df.drop(index=df.index[0], \n",
    "        axis=0, \n",
    "        inplace=True)\n",
    "df.head(3)"
   ]
  }
 ],
 "metadata": {
  "kernelspec": {
   "display_name": "Python 3 (ipykernel)",
   "language": "python",
   "name": "python3"
  },
  "language_info": {
   "codemirror_mode": {
    "name": "ipython",
    "version": 3
   },
   "file_extension": ".py",
   "mimetype": "text/x-python",
   "name": "python",
   "nbconvert_exporter": "python",
   "pygments_lexer": "ipython3",
   "version": "3.10.0"
  }
 },
 "nbformat": 4,
 "nbformat_minor": 5
}
